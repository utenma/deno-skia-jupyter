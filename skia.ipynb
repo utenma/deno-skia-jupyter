{
 "cells": [
  {
   "cell_type": "code",
   "execution_count": 1,
   "metadata": {},
   "outputs": [],
   "source": [
    "import CanvasKitInit from 'npm:canvaskit-wasm/bin/canvaskit.js'\n",
    "import { CanvasKit } from 'npm:canvaskit-wasm'\n",
    "\n",
    "export const canvasKit: CanvasKit = await CanvasKitInit({\n",
    "  locateFile: (file) => Deno.env.get(\"HOME\") + '/.cache/deno/npm/registry.npmjs.org/canvaskit-wasm/0.39.1/bin/' + file,\n",
    "})"
   ]
  },
  {
   "cell_type": "code",
   "execution_count": 2,
   "metadata": {},
   "outputs": [
    {
     "name": "stdout",
     "output_type": "stream",
     "text": [
      "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\n"
     ]
    }
   ],
   "source": [
    "import { encodeBase64 } from \"jsr:@std/encoding\"\n",
    "import { CanvasKit, Surface } from \"npm:canvaskit-wasm\"\n",
    "\n",
    "declare const canvasKit: CanvasKit\n",
    "\n",
    "const paint = new canvasKit.Paint()\n",
    "paint.setColor(canvasKit.Color4f(0.9, 0, 0, 1.0))\n",
    "paint.setStyle(canvasKit.PaintStyle.Stroke)\n",
    "paint.setAntiAlias(true)\n",
    "const rr = canvasKit.RRectXY(canvasKit.LTRBRect(10, 60, 210, 260), 10, 10)\n",
    "\n",
    "const height = 300\n",
    "const width = 300\n",
    "\n",
    "const surface: Surface = canvasKit.MakeSurface(height, width)!\n",
    "const canvas = surface.getCanvas()!\n",
    "canvas.clear(canvasKit.WHITE)\n",
    "canvas.drawRRect(rr, paint)\n",
    "\n",
    "\n",
    "const img = surface.makeImageSnapshot()\n",
    "const imgBytes = img.encodeToBytes()!\n",
    "const imgBase64 = encodeBase64(imgBytes)\n",
    "\n",
    "console.log(imgBase64)\n"
   ]
  },
  {
   "cell_type": "code",
   "execution_count": 3,
   "metadata": {},
   "outputs": [
    {
     "data": {
      "image/png": "[encoded data removed]"
     },
     "metadata": {},
     "output_type": "display_data"
    }
   ],
   "source": [
    "await Deno.jupyter.display({\n",
    "    'image/png':imgBase64\n",
    "\n",
    "}, { raw: true })"
   ]
  }
 ],
 "metadata": {
  "kernelspec": {
   "display_name": "Deno",
   "language": "typescript",
   "name": "deno"
  },
  "language_info": {
   "codemirror_mode": "typescript",
   "file_extension": ".ts",
   "mimetype": "text/x.typescript",
   "name": "typescript",
   "nbconvert_exporter": "script",
   "pygments_lexer": "typescript",
   "version": "5.4.5"
  }
 },
 "nbformat": 4,
 "nbformat_minor": 2
}
